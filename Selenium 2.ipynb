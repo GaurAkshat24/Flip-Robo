{
 "cells": [
  {
   "cell_type": "code",
   "execution_count": 1,
   "metadata": {},
   "outputs": [],
   "source": [
    "#import all the required libraries\n",
    "import pandas as pd\n",
    "import selenium\n",
    "from selenium import webdriver\n",
    "import time\n",
    "from selenium.common.exceptions import StaleElementReferenceException, NoSuchElementException"
   ]
  },
  {
   "cell_type": "code",
   "execution_count": 2,
   "metadata": {},
   "outputs": [],
   "source": [
    "driver=webdriver.Safari() \n",
    "time.sleep(4)\n"
   ]
  },
  {
   "cell_type": "code",
   "execution_count": 3,
   "metadata": {},
   "outputs": [],
   "source": [
    "url = \"https://www.naukri.com/\"\n",
    "driver.get(url)\n",
    "time.sleep(6)"
   ]
  },
  {
   "cell_type": "code",
   "execution_count": 4,
   "metadata": {},
   "outputs": [],
   "source": [
    "\n",
    "# entering “Data Analyst” in “Skill,Designations,Companies” field and enter “Bangalore” in “enter the location” field.\n",
    "search_field_designation=driver.find_element_by_id(\"qsb-keyword-sugg\") #job search bar\n",
    "search_field_location=driver.find_element_by_id('qsb-location-sugg') #location search bar"
   ]
  },
  {
   "cell_type": "code",
   "execution_count": 5,
   "metadata": {},
   "outputs": [],
   "source": [
    "search_field_designation.send_keys(\"Data Analyst\")"
   ]
  },
  {
   "cell_type": "code",
   "execution_count": 6,
   "metadata": {},
   "outputs": [],
   "source": [
    "search_field_location.send_keys(\"Bangalore\")"
   ]
  },
  {
   "cell_type": "code",
   "execution_count": 7,
   "metadata": {},
   "outputs": [],
   "source": [
    "# clicking the search button\n",
    "search_button=driver.find_element_by_xpath(\"//div[@class='search-btn']/button\")\n",
    "search_button.click()"
   ]
  },
  {
   "cell_type": "code",
   "execution_count": 9,
   "metadata": {},
   "outputs": [],
   "source": [
    "urls=[]\n",
    "\n",
    "for i in driver.find_elements_by_xpath(\"//a[@class='title fw500 ellipsis']\"):\n",
    "    urls.append(i.get_attribute('href'))\n",
    "    \n",
    "urls\n",
    "\n",
    "job_title=[]\n",
    "job_description=[]\n",
    "\n",
    "for i in urls[:10]:\n",
    "    driver.get(i)\n",
    "    time.sleep(3)\n",
    "    try:\n",
    "        description=driver.find_element_by_xpath(\"//section[@class='job-desc']\")\n",
    "        job_description.append(description.text)\n",
    "   \n",
    "    except NoSuchElementException:\n",
    "        job_description.append('NA')\n",
    "    "
   ]
  },
  {
   "cell_type": "code",
   "execution_count": 10,
   "metadata": {},
   "outputs": [
    {
     "data": {
      "text/plain": [
       "(10, 0)"
      ]
     },
     "execution_count": 10,
     "metadata": {},
     "output_type": "execute_result"
    }
   ],
   "source": [
    "len(job_description),len(job_title)"
   ]
  },
  {
   "cell_type": "code",
   "execution_count": 11,
   "metadata": {},
   "outputs": [
    {
     "data": {
      "text/plain": [
       "[\"Job description Job descriptionJob Role: Data Scientist/Data Analyst /Business AnalystLocation: Chennai/Bangalore/HyderabadGreetings from CAIA - Center for Artificial Intelligence & Advanced Analytics43% of companies experienced a high deficit of skilled resources with Advanced Analytical skills and AI implementing capabilities in the year 2020. CAIA gives you a great opportunity to enter the world of future technologies and Innovations- Data Science, Analytics, AI, Data Visualization, and Cloud Computing.While 2020 was a year like no other, we are living in an interesting times where data is reshaping the world, and businesses are rapidly adopting technology to gain an edge over others. Hence, there's a substantial increase in demand for technology professionals who can implement systems in data science, machine learning, and AI in Tier 1 and Tier 2 organizations working closely with us.To help you build a sustainable career we would like you to utilize data, software and Analytical approaches in Data Science and AI to upskill and get recruited into an organization appreciating your skilling journey.Applications invited from all Freshers and experienced candidates (0-3 yrs) aspiring to make a career in Artificial Intelligence and Advanced Analytics and Data Science.If you wish to make a shift in your career or undergo a career transition, upskilling is essential since it allows you to learn more about the domain and acquire the required skills.Call to schedule interview Monday -Saturday from 10:00 am to 7 PmKoodesh  B-       +91 73395 11107Manigandan  B - +91 93444 57360Email :careerguidance.koodes@centerforaia.commanigandan@centerforaia.comWhat is needed from you?Freshers who wish to start their career in Analytics and AI and professionals who wish toupskill or change their domain to analytics and emerging technologies are free to apply.Educational background in any one of the following- BE/B.Tech, ME/M Tech, MSc, BSc/MSc Math's and Statistics, B Com, BCA, BSc CS, BSC IT, MSC IT, MCASkills relating to Mathematics/Statistics.Natural passion towards numbers, business, coding, Analytics, and Artificial Intelligence, Machine Learning, visualizationGood verbal and written communication skillsAbility to understand domains in businesses across various sectorsSelection procedure includesAptitude Test & Communication Exam - Online / OfflineSQL/Python test - Online / OfflineCandidates who clear the above will have one-one discussions with our Career Guidance Manager for further evaluation and processing of your Resume.All the Shortlisted candidates will be eligible to continue the corporate training with CAIAWhat you can expect from us?You will get trained on the following modules for a period of 12-14 weeks:SQL & PLSQLData Wrangling using PythonData Visualization Using Power-BIStatistics for Machine LearningArtificial Intelligence, Data InterpretationSupervised & Unsupervised Learning,NLP & Deep LearningCloud Data LakeBusiness intelligence & Data VisualizationSimulation ProjectsExpected Outcome?At the end of the Training you are expected to be well versed with the following:Analysis of large and complex data sets from multiple sourcesDevelopment and evaluation of data analytics models, algorithms, and solutionsUnderstanding/implementation of ML algorithms, performance tuning, and reportingImplementation of algorithms to mine targeted data and the ability to convert data into a business storyTranslation of business requirements into technical requirements; Data extraction, preparation, and transformationIdentification, development, and implementation of statistical techniques and algorithms that address business challenges and adds value to the organizationRequirement Analysis and communication of findings in the form of a meaningful story with the stakeholdersFinding analytical solutions to abstract business issues.Apply objective analysis of facts before coming to a conclusionRoleData Analyst,Industry TypeIT Services & Consulting,Functional AreaAnalytics & Business Intelligence,Employment TypeFull Time, PermanentRole CategoryAnalytics & BIEducationUG :B.Com in Any Specialization, BCA in Any Specialization, B.B.A/ B.M.S in Any Specialization, B.Sc in Any Specialization, Any Graduate, B.Tech/B.E. in Any SpecializationKey SkillsBusiness IntelligencePower BiData WranglingArtificial IntelligenceBig DataITMachine LearningStatisticsAnalyticsDeep LearningBusiness AnalysisSQLData ScienceNLPCloud ComputingData AnalysisData VisualizationData WarehousingData AnalyticsETLPython\",\n",
       " \"Job descriptionBusiness Title/Designation - Senior Associate / Assistant Manager Roles and Responsibilities Strong understanding of one of the following businesses - Fund Services, Global Markets Operations, Equities, Prime Brokerage, Derivatives or CustodyWriting and executing system design documents, functional specs, test casesUnderstand user requirements and articulate the same to the technology teamWorking with technology team and business users for successful rollout of products and processesManaging end to end project implementationsMeeting client expectation and completion of projects under strict timeframeBe able to demo the productBe able to conduct internal / external trainingsOwn Product roadmap for Viteos (IntertrustViteos) Universe that includes (Reference Data, Reconciliations, Treasury, Settlements, Trade Booking , Fund Accounting)Required Background:Bachelors or Master's degree or similar2-6 years of relevant experienceThrough understanding of various functions in Investment banking/Hedge fund Operations including Trade Booking, Confirmations, Settlements, Collateral management, Reconciliation, Valuation/pricing and AccountingUnderstanding of various platforms and tools used across front, middle and/or back office operations in an alternative asset management setupShould have actively worked on large and mid-sized technology projectsShould have in-depth understanding of SDLCExcellent oral, written communication and influencing skillsUnderstanding any of below - Advent Geneva / Accounting platforms / Reference Data / Buy Side Treasury / OTC Valuations / Reconciliations / Collateral Management is big plusShould be comfortable with Mumbai or Bangalore locationRoleBusiness Analyst,Industry TypeBanking,Functional AreaAnalytics & Business Intelligence,Employment TypeFull Time, PermanentRole CategoryAnalytics & BIEducationUG :Any GraduatePG :Any PostgraduateDoctorate :Doctorate Not RequiredKey SkillsBusiness AnalyticsCapital MarketHedge FundsChange ManagementCCBAProduct ManagementFunctional DocumentInvestment BankingValuationReference DataEquityDerivativesSDLCCCPAEquity DerivativesBusiness AnalysisCPAReconciliationTest casesECBAOTCSkills highlighted with ‘‘ are preferred keyskills\",\n",
       " 'Job descriptionCapita India Pvt. Ltd.  Role: BPMI Analyst Role Objective To support achievement of Business Plan objectives and report efficiency and effectiveness of the accounts, to enable tactical planning for assigned business units; to undertake co-relation exercises between processes to leverage operational synergies; to undertake variance analysis for processes and provide decision making MIs. Academic: Graduation (any discipline) except - BSC - IT & Bachelors in EngineeringExperience: Minimum 3 years of overall experience and 6 months in role with exposure to fact finding, analysis and Mis ,  Planning, ForecastingWorking Relationships  Internal:Customer service teamBusiness lines, functions (Quality, Compliance and Finance)External:Onshore Stakeholders Primary ResponsibilitiesImplement seamless process to consolidate information from various sources, assess, interpret, and analyze the data in development of a thorough, accurate, and supportable report / planning function.Review & publish daily, weekly and monthly MI reports with 100% accuracy within TATDesign and develop metrics, reports and analyses to drive key business decisions.Strong task prioritization skills in addition to good statistical and critical thinking skills.Train Executives on process and procedures for developing new reports.To maximize relationships and awareness with functional opposites (Internal & External Stakeholders and Support team)Validate and improve the current processes of generating management information for clients and the businessTo communicate ideas for the development and further streamlining of processes and procedures in relation to the remit of the Business Planning and MI function.Exhibit excellent written and verbal communication skills with strong Analytical skillset & business intuition.Work directly with the client and site operations team to build staffing strategies that consider all possible variables that may affect staffing and volume projections.Monitor and analyze volume patterns, intra- and inter-day activity and make adjustment as needed in future schedules to ensure optimal productivity and efficiency.Create & refine planning process to ensure achievement of highest service level, adherence and other financially impacting goals, using projections and historical information.Drive continuous improvement in forecasting process and methodology.Direct the utilization of forecasting methods to deliver and monitor forecast accuracy.Continually seek, report, evaluate, and make recommendations to leadership to improve forecasting, planning and budgeting processes.Develop and evaluate forecasting models that consider promotional tactics and activities, historical trends, new product launches and concurrently safeguarding handling capacity.Proactively monitor associate behaviors, efficiency, and availability and report deficiencies to operations team Key Result AreasSupport Sustainable process to deliver actionable management informationEffective strategic & tactical planningAnalytical Insights Email your CV to sneha.das@capita.comRoleManagement Information Systems(MIS)-Manager,Industry TypeBPO / Call Centre,Functional AreaIT Software - Application Programming, Maintenance,Employment TypeFull Time, PermanentRole CategoryAdmin/Maintenance/Security/DatawarehousingEducationUG :Any GraduateKey SkillsMISService Level AdherenceProbabilityProjectionsAdvanced ExcelVariance AnalysisDashboardsData AnalyticsForecastingStatisticsPredictive Analytics',\n",
       " 'NA',\n",
       " 'Job description       Business Analyst is an Individual Contributor role where you will be responsible for tracking key metrics and communicating business trends to stakeholders. You would be closely working with the business/product teams to enable data driven decision making.                  What you ll do:                You will work closely with internal Flipkart Teams to identify, define, collect, and track key business metrics for products or business processes.               You will pull data required to conduct business analysis, build reports, dashboards and metrics to monitor the performance.               You will execute quantitative analysis that translates data into actionable insights               You will work with and influence stakeholders to take data driven decisions                  What you ll need:               Educational/ Work ex:                Bachelors in Engineering, Computer Science, Math, Statistics, or related discipline from a reputed institute or an MBA from a reputed institute.               1 Years of experience in relevant role                Required abilities / competencies:                Ability to translate structured and unstructured problems into analytical framework               Ability to experiment with alternate analytical techniques to solve a problem               Exceptional written and verbal communication skills               Ability to independently plan and execute deliverables               Ability to multitask and work on a diverse range of requirements                Technical capabilities:                 Good handle in SQL, Excel, other scripting languages (R, Python, etc.)               Basic understanding of statistical modelling and statistical tools such as R, Python, Spark, SAS or SPSS.               Good to have : working experience with BI tools (Power BI, Tableau, Qlikview, Datastudio, etc)        RoleBusiness Analyst,Industry TypeInternet,Functional AreaIT Software - Application Programming, Maintenance,Employment TypeFull Time, PermanentRole CategorySystem Design/Implementation/ERP/CRMEducationUG :Any GraduatePG :MBA/PGDM in Any SpecializationDoctorate :Doctorate Not RequiredKey SkillsSupply chainComputer scienceSASBusiness AnalystBusiness analysisAnalyticalSPSSQlikViewAnalyticsSQL',\n",
       " 'Job descriptionTitle: SEO AnalystLocation: Hyderabad, Noida, Kanpur, Bangalore, Chennai, and SalemExperience: 2-3 YearsJob descriptionResponsibilities:• Plan and execute on-page and off-page SEO activities for the organization• Identify SEO KPIs for websites and work towards ensuring month-over-month improvement on those issues.• Perform SEO Audit, Social Audit, and Competitor Audit for all clients and new prospects as per requirement• Improve discoverability for mission-critical target keywords for all clients based on their product/service offerings, industry, and domain• Prepare and present regular weekly & monthly reports to management.• Suggest improvements in SEO processes for productivity optimization and ROI.• Collaborate with web developers and content team to ensure smooth functioning of SEO-related activities.• Stay up to date with the latest SEO and digital marketing latest trends and best practice. RequirementsProven success in implementing SEO strategies for both B2B & B2C businessesExpertise in A/B and other testing methods for optimizing performanceIn-depth knowledge of tools required for SEO activities.Team player with excellent time-management & communication skills Technical Tools Skillset:WordPress, HTML, AHREFS, SEM Rush, Google Search Console, Google Analytics, Google Tag Manager, Google AdsRoleSearch Engine Optimisation /SEO Analyst,Industry TypeIT Services & Consulting,Functional AreaMarketing, Advertising, MR, PR, Media Planning,Employment TypeFull Time, PermanentRole CategoryOnline/Digital MarketingEducationUG :Any GraduateKey SkillsSEO AnalysisGoogle AnalyticsGoogle Tag ManagerWeb TechnologiesWordpressDigital MarketingSEMHTMLGoogle Search ConsoleProduct ServiceSkills highlighted with ‘‘ are preferred keyskills',\n",
       " 'Job description  The Independent Review Group (IRG) is an independent Level 1 control function performing trading surveillance across the Corporate and Investment Bank division. Located within Regulatory Operations, IRG are closely aligned with front office whilst maintaining segregation to perform a review and challenge control - identification and prevention of potentially fraudulent trading activity. The platform provides sophisticated analytics to generate meaningful alerts, automated workflow and management reporting to support the monitoring and fraud detection process.   You ll be working on an industry leading anomaly detection platform that uses innovative solutions involving Artificial Intelligence (AI) and Machine Learning (ML). You would leverage your strong product knowledge to conduct analysis of trading data across debt and equity products, providing insights into trends and trader behaviour across all businesses and regions. You would manage risk cases covering investigation and follow up within the defined timeframes. You would apply this analysis to refine and improve Key Risk Indicators used in the platform (including definition and acceptance testing)      What we ll offer you      As part of our flexible scheme, here are just some of the benefits that you ll enjoy    Best in class leave policy   Gender neutral parental leaves   100% reimbursement under child care assistance benefit (gender neutral)   Flexible working arrangements   Sponsorship for Industry relevant certifications and education   Employee Assistance Program for you and your family members   Comprehensive Hospitalization Insurance for you and your dependents   Accident and Term life Insurance   Complementary Health screening for 35 yrs. and above       Your key responsibilities      Identify opportunities for improving data quality, reducing noise and false positives reported by the tooling   Process ad-hoc support for requests from Front Office Supervisors, Front Office Business Managers or the Oversight Committee for granular information and reports relating to Trading behaviour / activity.   Be a part of key KYC work streams of the Bank working on transaction monitoring       Your skills and experience     A minimum 6 years of experience in Middle Office, Sales/Trading Support, Risk Management, Product Control, Finance or Front Office with good product knowledge used in Front Office (e.g. Option, Swap, Forward and other derivative strategies etc.).   Strong understanding of Fixed Income/Equity products or structured products skills (e.g. Option, Swap, Forward and other derivative strategies etc.) and excellent understanding of the controls relating to the complete trade life-cycle   Good appreciation of the risks in the different strategies dealt in a dealing room and good knowledge of trade booking practices and systems.   An ability to work independently to solve business problems, an inquisitive nature, a willingness to ask questions and challenge, ability to work in fast-paced environment and good at communicating to all levels       RoleAssociate/Senior Associate -(NonTechnical),Industry TypeBanking,Functional AreaITES, BPO, KPO, LPO, Customer Service, Operations,Employment TypeFull Time, PermanentRole CategoryVoiceEducationUG :Any GraduatePG :Any PostgraduateKey SkillsAnalystStructured productsFront officeFixed incomeProduct controlWorkflowData qualityRisk managementAnalyticsMonitoring',\n",
       " 'Job description    High-level team responsibility will include:       Process Analysis / Opportunity Assessment and create Roadmap for execution       Build Opportunity Pipeline Manage Opportunity Lifecycle       Idea Incubation, Design Thinking, Conducting POCs / POVs       Planning and delivery execution of enterprise-grade intelligent automation solutions       Enabling Automation Capabilities for enterprise-wide reuse (Playbooks, Reference Architecture,, Products, BotStore, etc.)       Developing and fostering a culture of Create , Consult , and Cultivate        User Experience at the core of development       Ensure right levels of Logging/ monitoring/ alerting in solutions to help operations       Essential Knowledge required:       Write user stories and necessary technical requirements for projects including complex business rules, logic flow diagrams, conditional logic, use cases and specific workflows       Split business requirements into thorough, detailed, developer-focused specifications with acceptance criteria and detailed requirements       Work closely with product owners and user experience designers to ensure clear definition of all enhancements and bugs, translating them to requirements, use cases, and acceptance criteria      Experience in delivering RPA solutions      Participate in brainstorming sessions with RPA Design leads to provide inputs for robotic process automation solutions.       Facilitate the design and development of product features       Interview subject matter experts, customers, and other stakeholders to identify and clarify requirements       Conduct internal and external prospect and Stakeholder interviews to gather business requirements and convert these to the necessary documentation for development teams       Conduct lead User Acceptance Testing to elicit feedback from various stakeholders       Establish rapport with customers and ensure that their questions and concerns are clearly documented       Present on-time delivery of requirements and user stories/specifications       Support the creation and maintenance of project and customer documentation       Ensure timely case follow-up with all customers       Quickly diagnose and resolve issues; ensure they are transferred to the appropriate team for follow up if required       Nice to Have       Preferred RPA Certifications: Business Analyst and Developer Foundation       You have experience with healthcare technology, process improvement or workflow implementations       Create wireframes mock-ups along with the requirements       Behaviors       Motivated to work in a fast-paced environment       Exceptional problem-solving skills       Well organized, detail oriented, and able to multitask       Ability to work independently with minimal supervision       Required Qualifications:       Bachelor s Degree in Business, Accounting, Economics, Public Health, Healthcare Management, Information Systems, or other healthcare-related disciplines.       Minimum five (5) years of experience working as a Business Analyst      Experience with Robotic Process Automation Tools, such as Automation Anywhere, UIPath or Blue Prizm.     Proven results in process improvement and automation (reduction in cycle time, transport, labor, SLA adherence, etc).      Experience with agile development and software development life cycle (SDLC) processes       Excellent Microsoft Excel skills       Experience with testing applications and automation solutions       Extensive experience in gathering and documenting business requirements       Experience writing requirements and documentation for web-based solutions       Experience working with User Experience team; Experience working with agile methodologies    RoleBusiness Analyst,Industry TypeMedical Services / Hospital,Functional AreaIT Software - Application Programming, Maintenance,Employment TypeFull Time, PermanentRole CategorySystem Design/Implementation/ERP/CRMEducationUG :B.B.A/ B.M.S in Management, Any GraduatePG :Any PostgraduateKey SkillsDirect salesAutomationOperational excellenceBusiness AnalystProcess improvementPharmacyWorkflowCustomer serviceAnalyticsMonitoring',\n",
       " 'Job descriptionTitle: SEO AnalystLocation: Hyderabad, Noida, Kanpur, Bangalore, Chennai, and SalemExperience: 2-3 YearsJob descriptionResponsibilities:• Plan and execute on-page and off-page SEO activities for the organization• Identify SEO KPIs for websites and work towards ensuring month-over-month improvement on those issues.• Perform SEO Audit, Social Audit, and Competitor Audit for all clients and new prospects as per requirement• Improve discoverability for mission-critical target keywords for all clients based on their product/service offerings, industry, and domain• Prepare and present regular weekly & monthly reports to management.• Suggest improvements in SEO processes for productivity optimization and ROI.• Collaborate with web developers and content team to ensure smooth functioning of SEO-related activities.• Stay up to date with the latest SEO and digital marketing latest trends and best practice. RequirementsProven success in implementing SEO strategies for both B2B & B2C businessesExpertise in A/B and other testing methods for optimizing performanceIn-depth knowledge of tools required for SEO activities.Team player with excellent time-management & communication skills Technical Tools Skillset:WordPress, HTML, AHREFS, SEM Rush, Google Search Console, Google Analytics, Google Tag Manager, Google AdsRoleSearch Engine Optimisation /SEO Analyst,Industry TypeIT Services & Consulting,Functional AreaMarketing, Advertising, MR, PR, Media Planning,Employment TypeFull Time, PermanentRole CategoryOnline/Digital MarketingEducationUG :Any GraduateKey SkillsSEO AnalysisGoogle AnalyticsGoogle Tag ManagerWeb TechnologiesWordpressDigital MarketingSEMHTMLGoogle Search ConsoleProduct ServiceSkills highlighted with ‘‘ are preferred keyskills',\n",
       " \"Job descriptionJob descriptionWe are looking to fill several positions for a passionate certified Data Analysts. We have departments in Sports Betting, Healthcare, Financial Trading, Sales and Anomaly Detection. Based on your expertise you will be placed on one of these teams or get to be a part of multiple. The successful candidate will turn data into information, information into insight and insight into business decisions.This is a unique opportunity for experienced professionals to be a part of a great cross-functional team. You play a pivotal roll working with Data Engineers and Data Scientists to achieve the company's goals and success.Responsibilities:Interpret data, analyze results using statistical techniques and write ongoing reportsDevelop and implement databases, data collection systems, data analytics and other strategies that optimize statistically, efficiency and qualityAcquire data from multiple data sources and maintain databases and data systemsIdentify, analyze, and interpret trends or patterns in complex data setsWork with management to prioritize business and information needsLocate and define new process improvement opportunitiesFor Sports Data Analysts: (Any Analyst Can learn)2+ years of technical work and experience in any kind of data.Interest and experience in data management. Good understanding of and experience in general data flow and data management concepts.Technical/System experience with any types of datasets.Unique opportunity to work with Sports Betting data. Analyze statistics, player movements, etc.For Healthcare Data Analysts:2+ years of technical work and experience in healthcare and clinical development.Interest and experience in clinical data management. Good understanding of and experience in clinical data flow and data management concepts.Technical/System experience with clinical datasets.For Financial Data Analysts:2+ years of technical work in financial dataInterest and/or experience in financial trading data management.Technical experience with financial trading data.Conduct comparable analysis and market research to support internal financial analysisMaintain up-to-date technical knowledge of financial instruments, market conditions, and trendsRequirements:Proven working experience as a data analyst or business data analystTechnical expertise regarding data models, database design development, and data miningKnowledge of statistics and experience using Excel, etc. for analyzing datasetsStrong analytical skills with the ability to collect, organize, analyze, and large amounts of information with attention to detail and accuracyAdept at queries, writing report and presenting findingsRoleData Analyst,Industry TypeIT Services & Consulting,Functional AreaAnalytics & Business Intelligence,Employment TypeFull Time, PermanentRole CategoryAnalytics & BIEducationUG :Any GraduateKey SkillsAnomaly DetectionExcelSalesFinanceData AnalysisData CollectionClinical Data ManagementClinical DevelopmentData AnalyticsMarket ResearchSports\"]"
      ]
     },
     "execution_count": 11,
     "metadata": {},
     "output_type": "execute_result"
    }
   ],
   "source": [
    "job_description"
   ]
  },
  {
   "cell_type": "code",
   "execution_count": 13,
   "metadata": {},
   "outputs": [],
   "source": [
    "driver.get(urls[1])"
   ]
  },
  {
   "cell_type": "code",
   "execution_count": null,
   "metadata": {},
   "outputs": [],
   "source": [
    "for:\n",
    "driver.find_element_by_xpath(\"//a[@class='fright fs4 btn-secondary br2']\").click()"
   ]
  },
  {
   "cell_type": "code",
   "execution_count": 23,
   "metadata": {},
   "outputs": [],
   "source": [
    "driver.get('https://www.amazon.in/s?k=laptop&ref=nb_sb_noss_2')"
   ]
  },
  {
   "cell_type": "code",
   "execution_count": null,
   "metadata": {},
   "outputs": [],
   "source": [
    "filter_button=driver.find_element_by_xpath(\"//a[@class='a-link-normal s-navigation-item']/span\")\n",
    "for i in filter_button:\n",
    "    if i.text=='Intel Core i7':\n",
    "        i.click()\n",
    "        break"
   ]
  },
  {
   "cell_type": "code",
   "execution_count": 25,
   "metadata": {},
   "outputs": [],
   "source": [
    "filter_button=driver.find_element_by_xpath(\"//a[@class='a-link-normal s-navigation-item']/span\")\n",
    "for i in filter_button:\n",
    "    if i.text=='Intel Core i9':\n",
    "        i.click()\n",
    "        break"
   ]
  },
  {
   "cell_type": "code",
   "execution_count": null,
   "metadata": {},
   "outputs": [],
   "source": []
  }
 ],
 "metadata": {
  "kernelspec": {
   "display_name": "Python 3",
   "language": "python",
   "name": "python3"
  },
  "language_info": {
   "codemirror_mode": {
    "name": "ipython",
    "version": 3
   },
   "file_extension": ".py",
   "mimetype": "text/x-python",
   "name": "python",
   "nbconvert_exporter": "python",
   "pygments_lexer": "ipython3",
   "version": "3.8.5"
  }
 },
 "nbformat": 4,
 "nbformat_minor": 4
}
